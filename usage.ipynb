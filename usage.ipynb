{
 "cells": [
  {
   "metadata": {},
   "cell_type": "markdown",
   "source": "#",
   "id": "8c35a4452a68b93e"
  },
  {
   "metadata": {},
   "cell_type": "markdown",
   "source": [
    "# DiktyonPhi\n",
    "\n",
    "## Vytváření orientovaného grafu\n",
    "\n",
    "Prvním krokem při vytváření grafu je volání konstruktoru třídy `Graph`."
   ],
   "id": "7ec41a0e4b0afe7"
  },
  {
   "metadata": {},
   "cell_type": "code",
   "outputs": [],
   "execution_count": null,
   "source": "",
   "id": "a1a7cb92ec8b2fe1"
  },
  {
   "metadata": {},
   "cell_type": "code",
   "outputs": [],
   "execution_count": null,
   "source": "",
   "id": "20968089ed371ba0"
  }
 ],
 "metadata": {
  "kernelspec": {
   "display_name": "Python 3",
   "language": "python",
   "name": "python3"
  },
  "language_info": {
   "codemirror_mode": {
    "name": "ipython",
    "version": 2
   },
   "file_extension": ".py",
   "mimetype": "text/x-python",
   "name": "python",
   "nbconvert_exporter": "python",
   "pygments_lexer": "ipython2",
   "version": "2.7.6"
  }
 },
 "nbformat": 4,
 "nbformat_minor": 5
}
